{
  "nbformat": 4,
  "nbformat_minor": 0,
  "metadata": {
    "colab": {
      "provenance": [],
      "authorship_tag": "ABX9TyNAtovfrr3nhwAjhULGOQ7s",
      "include_colab_link": true
    },
    "kernelspec": {
      "name": "python3",
      "display_name": "Python 3"
    },
    "language_info": {
      "name": "python"
    }
  },
  "cells": [
    {
      "cell_type": "markdown",
      "metadata": {
        "id": "view-in-github",
        "colab_type": "text"
      },
      "source": [
        "<a href=\"https://colab.research.google.com/github/karoz-exe/Homework-Kazancev-R.A-/blob/hw_10/%D0%9F%D1%80%D0%B0%D0%BA%D1%82%D0%B8%D1%87%D0%B5%D1%81%D0%BA%D0%BE%D0%B5_%D0%B7%D0%B0%D0%B4%D0%B0%D0%BD%D0%B8%D0%B5_10.ipynb\" target=\"_parent\"><img src=\"https://colab.research.google.com/assets/colab-badge.svg\" alt=\"Open In Colab\"/></a>"
      ]
    },
    {
      "cell_type": "markdown",
      "source": [
        "**Практическое задание №10**"
      ],
      "metadata": {
        "id": "-m9neRsr2uIr"
      }
    },
    {
      "cell_type": "markdown",
      "source": [
        "В этом задании вам предстоит обучить модель для прогнозирования стоимости недвижимости и создать API для модели с помощью FastAPI.\n",
        "\n",
        "Вам нужно:\n",
        "1. Скачать данные и обучить модель прогнозирования стоимости недвижимости (модель может быть любой сложности, даже линейная регрессия на двух признаках. Можно переиспользовать модель с прошлого ДЗ) - 1 балл\n",
        "2. Реализуйте код для получения предсказания обученной моделью - 1 балл\n",
        "Реализуйте получение предсказания моделью через get-запрос по адресу /predict_get - 2 балла\n",
        "3. Реализуйте получение предсказания моделью через post-запрос по адресу /predict_post - 2 балла\n",
        "4. Реализуйте liveness-пробу (health-check) health - 1 балл\n",
        "5. Запустите API через uvicorn, посетите адрес http://127.0.0.1:8000/docs и попробуйте отправить get/post запросы к вашему API через интерфейс Swagger-документации. Результаты выполнения запросов сохраните в виде скриншотов в репозитории - 3 балла"
      ],
      "metadata": {
        "id": "-IHrw3ib2xfL"
      }
    },
    {
      "cell_type": "code",
      "execution_count": null,
      "metadata": {
        "colab": {
          "base_uri": "https://localhost:8080/"
        },
        "id": "IE1ksCwe2paS",
        "outputId": "894bc9db-0315-4a3a-b298-2a5dd1c3d1a9",
        "collapsed": true
      },
      "outputs": [
        {
          "output_type": "stream",
          "name": "stdout",
          "text": [
            "Collecting uvicorn\n",
            "  Downloading uvicorn-0.32.1-py3-none-any.whl.metadata (6.6 kB)\n",
            "Collecting fastapi\n",
            "  Downloading fastapi-0.115.6-py3-none-any.whl.metadata (27 kB)\n",
            "Requirement already satisfied: scikit-learn in /usr/local/lib/python3.10/dist-packages (1.5.2)\n",
            "Requirement already satisfied: joblib in /usr/local/lib/python3.10/dist-packages (1.4.2)\n",
            "Requirement already satisfied: pandas in /usr/local/lib/python3.10/dist-packages (2.2.2)\n",
            "Requirement already satisfied: click>=7.0 in /usr/local/lib/python3.10/dist-packages (from uvicorn) (8.1.7)\n",
            "Requirement already satisfied: h11>=0.8 in /usr/local/lib/python3.10/dist-packages (from uvicorn) (0.14.0)\n",
            "Requirement already satisfied: typing-extensions>=4.0 in /usr/local/lib/python3.10/dist-packages (from uvicorn) (4.12.2)\n",
            "Collecting starlette<0.42.0,>=0.40.0 (from fastapi)\n",
            "  Downloading starlette-0.41.3-py3-none-any.whl.metadata (6.0 kB)\n",
            "Requirement already satisfied: pydantic!=1.8,!=1.8.1,!=2.0.0,!=2.0.1,!=2.1.0,<3.0.0,>=1.7.4 in /usr/local/lib/python3.10/dist-packages (from fastapi) (2.10.3)\n",
            "Requirement already satisfied: numpy>=1.19.5 in /usr/local/lib/python3.10/dist-packages (from scikit-learn) (1.26.4)\n",
            "Requirement already satisfied: scipy>=1.6.0 in /usr/local/lib/python3.10/dist-packages (from scikit-learn) (1.13.1)\n",
            "Requirement already satisfied: threadpoolctl>=3.1.0 in /usr/local/lib/python3.10/dist-packages (from scikit-learn) (3.5.0)\n",
            "Requirement already satisfied: python-dateutil>=2.8.2 in /usr/local/lib/python3.10/dist-packages (from pandas) (2.8.2)\n",
            "Requirement already satisfied: pytz>=2020.1 in /usr/local/lib/python3.10/dist-packages (from pandas) (2024.2)\n",
            "Requirement already satisfied: tzdata>=2022.7 in /usr/local/lib/python3.10/dist-packages (from pandas) (2024.2)\n",
            "Requirement already satisfied: annotated-types>=0.6.0 in /usr/local/lib/python3.10/dist-packages (from pydantic!=1.8,!=1.8.1,!=2.0.0,!=2.0.1,!=2.1.0,<3.0.0,>=1.7.4->fastapi) (0.7.0)\n",
            "Requirement already satisfied: pydantic-core==2.27.1 in /usr/local/lib/python3.10/dist-packages (from pydantic!=1.8,!=1.8.1,!=2.0.0,!=2.0.1,!=2.1.0,<3.0.0,>=1.7.4->fastapi) (2.27.1)\n",
            "Requirement already satisfied: six>=1.5 in /usr/local/lib/python3.10/dist-packages (from python-dateutil>=2.8.2->pandas) (1.16.0)\n",
            "Requirement already satisfied: anyio<5,>=3.4.0 in /usr/local/lib/python3.10/dist-packages (from starlette<0.42.0,>=0.40.0->fastapi) (3.7.1)\n",
            "Requirement already satisfied: idna>=2.8 in /usr/local/lib/python3.10/dist-packages (from anyio<5,>=3.4.0->starlette<0.42.0,>=0.40.0->fastapi) (3.10)\n",
            "Requirement already satisfied: sniffio>=1.1 in /usr/local/lib/python3.10/dist-packages (from anyio<5,>=3.4.0->starlette<0.42.0,>=0.40.0->fastapi) (1.3.1)\n",
            "Requirement already satisfied: exceptiongroup in /usr/local/lib/python3.10/dist-packages (from anyio<5,>=3.4.0->starlette<0.42.0,>=0.40.0->fastapi) (1.2.2)\n",
            "Downloading uvicorn-0.32.1-py3-none-any.whl (63 kB)\n",
            "\u001b[2K   \u001b[90m━━━━━━━━━━━━━━━━━━━━━━━━━━━━━━━━━━━━━━━━\u001b[0m \u001b[32m63.8/63.8 kB\u001b[0m \u001b[31m2.8 MB/s\u001b[0m eta \u001b[36m0:00:00\u001b[0m\n",
            "\u001b[?25hDownloading fastapi-0.115.6-py3-none-any.whl (94 kB)\n",
            "\u001b[2K   \u001b[90m━━━━━━━━━━━━━━━━━━━━━━━━━━━━━━━━━━━━━━━━\u001b[0m \u001b[32m94.8/94.8 kB\u001b[0m \u001b[31m6.6 MB/s\u001b[0m eta \u001b[36m0:00:00\u001b[0m\n",
            "\u001b[?25hDownloading starlette-0.41.3-py3-none-any.whl (73 kB)\n",
            "\u001b[2K   \u001b[90m━━━━━━━━━━━━━━━━━━━━━━━━━━━━━━━━━━━━━━━━\u001b[0m \u001b[32m73.2/73.2 kB\u001b[0m \u001b[31m5.5 MB/s\u001b[0m eta \u001b[36m0:00:00\u001b[0m\n",
            "\u001b[?25hInstalling collected packages: uvicorn, starlette, fastapi\n",
            "Successfully installed fastapi-0.115.6 starlette-0.41.3 uvicorn-0.32.1\n"
          ]
        }
      ],
      "source": [
        "!pip install uvicorn fastapi scikit-learn joblib pandas"
      ]
    },
    {
      "cell_type": "code",
      "source": [
        "import uvicorn\n",
        "from fastapi import FastAPI, HTTPException\n",
        "from fastapi.responses import JSONResponse\n",
        "import pandas as pd\n",
        "import numpy as np\n",
        "from sklearn.linear_model import LinearRegression\n",
        "import joblib\n",
        "import os\n",
        "\n",
        "app = FastAPI()\n",
        "\n",
        "MODEL_PATH = \"linear_model.pkl\"\n",
        "\n",
        "# --- Загрузка и обучение модели (выполняется только один раз при запуске) ---\n",
        "if not os.path.exists(MODEL_PATH):\n",
        "    try:\n",
        "        data = pd.read_csv('/content/realty_data.csv')\n",
        "        data = data.dropna(subset=['price', 'floor', 'total_square']) #Удаление строк с пропусками\n",
        "        X = data[['floor', 'total_square']]\n",
        "        y = data['price']\n",
        "        model = LinearRegression()\n",
        "        model.fit(X, y)\n",
        "        joblib.dump(model, MODEL_PATH)\n",
        "        print(\"Модель обучена и сохранена.\")\n",
        "    except FileNotFoundError:\n",
        "        print(\"Файл realty_data.csv не найден. Модель не обучена.\")\n",
        "        model = None\n",
        "    except Exception as e:\n",
        "        print(f\"Ошибка при обучении модели: {e}\")\n",
        "        model = None\n",
        "else:\n",
        "    try:\n",
        "        model = joblib.load(MODEL_PATH)\n",
        "        print(\"Модель загружена из файла.\")\n",
        "    except Exception as e:\n",
        "        print(f\"Ошибка при загрузке модели: {e}\")\n",
        "        model = None\n",
        "\n",
        "\n",
        "# --- Эндпоинты ---\n",
        "@app.get(\"/health\")\n",
        "async def health_check():\n",
        "    return {\"status\": \"healthy\"}\n",
        "\n",
        "@app.get(\"/predict_get\")\n",
        "async def predict_get(floor: float, total_square: int):\n",
        "    if model is None:\n",
        "        raise HTTPException(status_code=500, detail=\"Модель не загружена.\")\n",
        "    try:\n",
        "        prediction = model.predict([[floor, total_square]])[0]\n",
        "        return {\"price\": prediction}\n",
        "    except Exception as e:\n",
        "        raise HTTPException(status_code=500, detail=f\"Ошибка прогнозирования: {e}\")\n",
        "\n",
        "@app.post(\"/predict_post\")\n",
        "async def predict_post(data: dict):\n",
        "    if model is None:\n",
        "        raise HTTPException(status_code=500, detail=\"Модель не загружена.\")\n",
        "    try:\n",
        "        floor = float(data[\"floor\"])\n",
        "        total_square = int(data[\"total_square\"])\n",
        "        prediction = model.predict([[floor, total_square]])[0]\n",
        "        return {\"price\": prediction}\n",
        "    except KeyError as e:\n",
        "        raise HTTPException(status_code=422, detail=f\"Отсутствует обязательное поле: {e}\")\n",
        "    except ValueError as e:\n",
        "        raise HTTPException(status_code=422, detail=f\"Неверный формат данных: {e}\")\n",
        "    except Exception as e:\n",
        "        raise HTTPException(status_code=500, detail=f\"Ошибка прогнозирования: {e}\")"
      ],
      "metadata": {
        "colab": {
          "base_uri": "https://localhost:8080/"
        },
        "id": "fYc8AA2-zbRh",
        "outputId": "20940ada-4a02-4b9f-ed81-29fffa57fbde"
      },
      "execution_count": null,
      "outputs": [
        {
          "output_type": "stream",
          "name": "stdout",
          "text": [
            "Модель загружена из файла.\n"
          ]
        }
      ]
    },
    {
      "cell_type": "code",
      "source": [
        "!pip install FastAPI -q\n",
        "!uvicorn main:app --reload\n",
        "if __name__ == \"__main__\":\n",
        "    uvicorn.run(app, host=\"0.0.1\", port=8000)"
      ],
      "metadata": {
        "id": "4ymSWCx5BzpU",
        "colab": {
          "base_uri": "https://localhost:8080/"
        },
        "outputId": "1a417d09-946d-4d69-d64a-f2886aaa7375"
      },
      "execution_count": null,
      "outputs": [
        {
          "output_type": "stream",
          "name": "stdout",
          "text": [
            "\u001b[32mINFO\u001b[0m:     Will watch for changes in these directories: ['/content']\n",
            "\u001b[32mINFO\u001b[0m:     Uvicorn running on \u001b[1mhttp://127.0.0.1:8000\u001b[0m (Press CTRL+C to quit)\n",
            "\u001b[32mINFO\u001b[0m:     Started reloader process [\u001b[36m\u001b[1m30660\u001b[0m] using \u001b[36m\u001b[1mStatReload\u001b[0m\n",
            "\u001b[32mINFO\u001b[0m:     Started server process [\u001b[36m30662\u001b[0m]\n",
            "\u001b[32mINFO\u001b[0m:     Waiting for application startup.\n",
            "\u001b[32mINFO\u001b[0m:     Application startup complete.\n"
          ]
        }
      ]
    }
  ]
}