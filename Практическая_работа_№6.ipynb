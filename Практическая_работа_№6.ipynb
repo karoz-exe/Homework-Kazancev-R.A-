{
  "nbformat": 4,
  "nbformat_minor": 0,
  "metadata": {
    "colab": {
      "provenance": [],
      "authorship_tag": "ABX9TyPjbl8+2svhzOSSvz/f6KwS",
      "include_colab_link": true
    },
    "kernelspec": {
      "name": "python3",
      "display_name": "Python 3"
    },
    "language_info": {
      "name": "python"
    }
  },
  "cells": [
    {
      "cell_type": "markdown",
      "metadata": {
        "id": "view-in-github",
        "colab_type": "text"
      },
      "source": [
        "<a href=\"https://colab.research.google.com/github/karoz-exe/Homework-Kazancev-R.A-/blob/hw_6/%D0%9F%D1%80%D0%B0%D0%BA%D1%82%D0%B8%D1%87%D0%B5%D1%81%D0%BA%D0%B0%D1%8F_%D1%80%D0%B0%D0%B1%D0%BE%D1%82%D0%B0_%E2%84%966.ipynb\" target=\"_parent\"><img src=\"https://colab.research.google.com/assets/colab-badge.svg\" alt=\"Open In Colab\"/></a>"
      ]
    },
    {
      "cell_type": "markdown",
      "source": [
        "**Задание к практической работе №6:**\n",
        "\n",
        "В этом задании вам предстоит использовать данные о выживаемости на Титанике для построения модели бинарной классификации для признака Survived.\n",
        "\n",
        "* Считайте датасет из файла train.csv (это данные о выживаемости на Титанике)\n",
        "* Выберите и обоснуйте метрику для измерения качества (accuracy/precision/recall/f1-score/fbeta-score/roc-auc и т.д.). В рамках данного пункта необходимо подобрать наиболее релевантную метрику или набор метрик для вашей задачи, написав краткое обоснование (1-2 предложения) - 2 балла\n",
        "* Постройте бейзлайн и ML-модель классификации (LogisticRegression или любая другая, которая вам кажется подходящей) и оцените их качество с помощью выбранной метрики\n",
        "\n",
        "**Критерии оценки модели:**\n",
        "\n",
        "* Произведено разбиение датасета на тренировочную/тестовую выборки - 1 балл\n",
        "* Произведено измерение качества константного предсказания (например, наиболее частотный класс/случайное предсказание) - 1 балл\n",
        "* ML-модель обучена на тренировочной выборке, учтены особенности предобработки данных для модели, если они есть - 3 балла\n",
        "* Произведено измерение качества на отложенной выборке с использованием ранее выбранной метрики - 1 балл\n",
        "* Обеспечена воспроизводимость решения: зафиксированы random_state, ноутбук воспроизводится от начала до конца без ошибок - 2 балла"
      ],
      "metadata": {
        "id": "OdAdgzXkPEuJ"
      }
    },
    {
      "cell_type": "code",
      "source": [
        "import pandas as pd\n",
        "from sklearn.model_selection import train_test_split\n",
        "from sklearn.linear_model import LogisticRegression\n",
        "from sklearn.metrics import classification_report, accuracy_score, recall_score, precision_score, f1_score, roc_auc_score\n",
        "from sklearn.preprocessing import StandardScaler, OneHotEncoder\n",
        "from sklearn.compose import ColumnTransformer\n",
        "from sklearn.pipeline import Pipeline\n",
        "import numpy as np\n",
        "df = pd.read_csv(\"/content/sample_data/data titanic.csv\")\n",
        "# Подзадание №1. Выбор метрики: В задаче предсказания выживаемости на Титанике важно минимизировать количество непредсказанных выживших.  Исходя из этого, выбрана метрика Recall.\n",
        "df = df.dropna(subset=['Embarked', 'Age']) #Удаляем строки с пропусками в этих столбцах\n",
        "df['Sex'] = df['Sex'].map({'male': 0, 'female': 1})\n",
        "df['Embarked'] = df['Embarked'].map({'S': 0, 'C': 1, 'Q': 2})\n",
        "X = df.drop(['PassengerId', 'Survived', 'Name', 'Ticket', 'Cabin'], axis=1)\n",
        "y = df['Survived']\n",
        "# Разбиение на тренировочную и тестовую выборки\n",
        "X_train, X_test, y_train, y_test = train_test_split(X, y, test_size=0.2, random_state=42)\n",
        "# Бейзлайн: предсказание наиболее частого класса\n",
        "most_frequent_class = y_train.mode()[0]\n",
        "y_pred_baseline = np.full(y_test.shape, most_frequent_class)\n",
        "print(\"Метрики бейзлайна:\")\n",
        "print(y_pred)\n",
        "print(np.bincount(y_test))\n",
        "print(\"\\nМетрики Logistic Regression:\")\n",
        "print(classification_report(y_test, y_pred, zero_division=0))\n",
        "# ML-модель: Logistic Regression\n",
        "numeric_features = ['Age', 'SibSp', 'Parch', 'Fare','Embarked']\n",
        "categorical_features = ['Sex','Pclass']\n",
        "\n",
        "numeric_transformer = Pipeline(steps=[('scaler', StandardScaler())])\n",
        "categorical_transformer = Pipeline(steps=[('onehot', OneHotEncoder(handle_unknown='ignore'))])\n",
        "\n",
        "preprocessor = ColumnTransformer(\n",
        "    transformers=[\n",
        "        ('num', numeric_transformer, numeric_features),\n",
        "        ('cat', categorical_transformer, categorical_features)])\n",
        "\n",
        "model = Pipeline(steps=[('preprocessor', preprocessor),\n",
        "                      ('classifier', LogisticRegression(random_state=42))])\n",
        "\n",
        "model.fit(X_train, y_train)\n",
        "y_pred = model.predict(X_test)\n",
        "\n",
        "print(\"\\nМетрики Logistic Regression:\")\n",
        "print(classification_report(y_test, y_pred))\n",
        "\n",
        "print(f\"Accuracy: {accuracy_score(y_test,y_pred)}\")\n",
        "print(f\"Recall: {recall_score(y_test,y_pred)}\")\n",
        "print(f\"Precision: {precision_score(y_test,y_pred)}\")\n",
        "print(f\"F1-score: {f1_score(y_test,y_pred)}\")\n",
        "\n",
        "try:\n",
        "    print(f\"ROC AUC: {roc_auc_score(y_test, y_pred)}\")\n",
        "except ValueError as e:\n",
        "    print(f\"Ошибка при вычислении ROC AUC: {e}\") #Обработка потенциальной ошибки при бинарной классификации с только одним классом"
      ],
      "metadata": {
        "colab": {
          "base_uri": "https://localhost:8080/"
        },
        "id": "yotStTr-Ptz5",
        "outputId": "d0ef9bf5-7c23-45d2-dfbc-cea2034f7e31"
      },
      "execution_count": 3,
      "outputs": [
        {
          "output_type": "stream",
          "name": "stdout",
          "text": [
            "Метрики бейзлайна:\n",
            "[1 1 0 1 0 1 0 1 0 1 0 0 0 0 0 0 1 0 1 1 0 1 1 0 0 1 0 1 0 1 1 0 0 0 0 0 0\n",
            " 1 1 0 0 0 0 0 0 0 0 0 0 0 0 0 1 0 0 1 0 0 0 0 0 1 0 1 0 0 0 0 1 0 1 0 0 0\n",
            " 0 0 1 0 0 1 0 1 1 0 0 0 0 1 0 1 0 0 0 1 0 1 1 0 1 1 1 0 1 0 0 0 0 0 0 0 0\n",
            " 1 0 0 1 0 0 0 1 1 0 1 1 1 0 1 0 1 0 1 1 0 0 0 0 0 0 0 0 1 0 1 0]\n",
            "[80 63]\n",
            "\n",
            "Метрики Logistic Regression:\n",
            "              precision    recall  f1-score   support\n",
            "\n",
            "           0       0.77      0.90      0.83        80\n",
            "           1       0.84      0.65      0.73        63\n",
            "\n",
            "    accuracy                           0.79       143\n",
            "   macro avg       0.80      0.78      0.78       143\n",
            "weighted avg       0.80      0.79      0.79       143\n",
            "\n",
            "\n",
            "Метрики Logistic Regression:\n",
            "              precision    recall  f1-score   support\n",
            "\n",
            "           0       0.77      0.90      0.83        80\n",
            "           1       0.84      0.65      0.73        63\n",
            "\n",
            "    accuracy                           0.79       143\n",
            "   macro avg       0.80      0.78      0.78       143\n",
            "weighted avg       0.80      0.79      0.79       143\n",
            "\n",
            "Accuracy: 0.7902097902097902\n",
            "Recall: 0.6507936507936508\n",
            "Precision: 0.8367346938775511\n",
            "F1-score: 0.7321428571428571\n",
            "ROC AUC: 0.7753968253968254\n"
          ]
        }
      ]
    }
  ]
}