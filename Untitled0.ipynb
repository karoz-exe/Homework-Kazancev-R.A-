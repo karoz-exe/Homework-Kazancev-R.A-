{
  "nbformat": 4,
  "nbformat_minor": 0,
  "metadata": {
    "colab": {
      "provenance": [],
      "authorship_tag": "ABX9TyMrjf46tChbGc1dGQh8drY3",
      "include_colab_link": true
    },
    "kernelspec": {
      "name": "python3",
      "display_name": "Python 3"
    },
    "language_info": {
      "name": "python"
    }
  },
  "cells": [
    {
      "cell_type": "markdown",
      "metadata": {
        "id": "view-in-github",
        "colab_type": "text"
      },
      "source": [
        "<a href=\"https://colab.research.google.com/github/karoz-exe/Homework-Kazancev-R.A-/blob/hw_3/Untitled0.ipynb\" target=\"_parent\"><img src=\"https://colab.research.google.com/assets/colab-badge.svg\" alt=\"Open In Colab\"/></a>"
      ]
    },
    {
      "cell_type": "markdown",
      "source": [
        "**Практическое задние №3**"
      ],
      "metadata": {
        "id": "pobP5vfDEyO0"
      }
    },
    {
      "cell_type": "markdown",
      "source": [
        "**Задание:**\n",
        "1. Считайте датасет из файла train.csv (это данные о выживаемости на Титанике) - 1 балл;\n",
        "2. Выведите основную информацию о датасете: информацию о типах данных, число пропусков, средние значения и т.д. - 1 балл;\n",
        "3. Посчитайте процент выживаемости у каждого класса пассажиров (Pclass) - 1 балл;\n",
        "4. Выведите самое популярное мужское и самое популярное женское имя на корабле - 1 балл;\n",
        "5. Выведите самое популярное мужское и самое популярное женское имя на корабле в каждом классе - 2 балла;\n",
        "6. Выведите часть таблицы с пассажирами, возраст которых больше 44 лет - 1 балл;\n",
        "7. Выведите часть таблицы с пассажирами, возраст которых меньше 44 лет и которые мужского пола - 2 балла;\n",
        "8. Выведите количества n-местных кабин (в которых было 2, 3, 4, ... человека) - 1 балл."
      ],
      "metadata": {
        "id": "p83Pug_bE4hE"
      }
    },
    {
      "cell_type": "code",
      "source": [
        "# подзадание №1\n",
        "import os\n",
        "import pandas as pd\n",
        "print(f\"Текущая директория: {os.getcwd()}\")\n",
        "df = pd.read_csv(\"/content/data titanic.csv\")"
      ],
      "metadata": {
        "colab": {
          "base_uri": "https://localhost:8080/"
        },
        "id": "idjMrUhBFEn9",
        "outputId": "4598ff8b-f31b-4a1f-f46b-666040823b78"
      },
      "execution_count": 36,
      "outputs": [
        {
          "output_type": "stream",
          "name": "stdout",
          "text": [
            "Текущая директория: /content\n"
          ]
        }
      ]
    },
    {
      "cell_type": "code",
      "source": [
        "# подзадание №2\n",
        "print(\"Основная информация о датасете:\\n\", df.info())\n",
        "print(\"\\nОписание числовых данных:\\n\", df.describe())\n",
        "print(\"\\nКоличество пропусков в каждом столбце:\\n\", df.isnull().sum())"
      ],
      "metadata": {
        "colab": {
          "base_uri": "https://localhost:8080/"
        },
        "id": "BNCAyMyyJjPt",
        "outputId": "3eb20075-a763-404c-eeb9-e8b06220639c"
      },
      "execution_count": 37,
      "outputs": [
        {
          "output_type": "stream",
          "name": "stdout",
          "text": [
            "<class 'pandas.core.frame.DataFrame'>\n",
            "RangeIndex: 891 entries, 0 to 890\n",
            "Data columns (total 12 columns):\n",
            " #   Column       Non-Null Count  Dtype  \n",
            "---  ------       --------------  -----  \n",
            " 0   PassengerId  891 non-null    int64  \n",
            " 1   Survived     891 non-null    int64  \n",
            " 2   Pclass       891 non-null    int64  \n",
            " 3   Name         891 non-null    object \n",
            " 4   Sex          891 non-null    object \n",
            " 5   Age          714 non-null    float64\n",
            " 6   SibSp        891 non-null    int64  \n",
            " 7   Parch        891 non-null    int64  \n",
            " 8   Ticket       891 non-null    object \n",
            " 9   Fare         891 non-null    float64\n",
            " 10  Cabin        204 non-null    object \n",
            " 11  Embarked     889 non-null    object \n",
            "dtypes: float64(2), int64(5), object(5)\n",
            "memory usage: 83.7+ KB\n",
            "Основная информация о датасете:\n",
            " None\n",
            "\n",
            "Описание числовых данных:\n",
            "        PassengerId    Survived      Pclass         Age       SibSp  \\\n",
            "count   891.000000  891.000000  891.000000  714.000000  891.000000   \n",
            "mean    446.000000    0.383838    2.308642   29.699118    0.523008   \n",
            "std     257.353842    0.486592    0.836071   14.526497    1.102743   \n",
            "min       1.000000    0.000000    1.000000    0.420000    0.000000   \n",
            "25%     223.500000    0.000000    2.000000   20.125000    0.000000   \n",
            "50%     446.000000    0.000000    3.000000   28.000000    0.000000   \n",
            "75%     668.500000    1.000000    3.000000   38.000000    1.000000   \n",
            "max     891.000000    1.000000    3.000000   80.000000    8.000000   \n",
            "\n",
            "            Parch        Fare  \n",
            "count  891.000000  891.000000  \n",
            "mean     0.381594   32.204208  \n",
            "std      0.806057   49.693429  \n",
            "min      0.000000    0.000000  \n",
            "25%      0.000000    7.910400  \n",
            "50%      0.000000   14.454200  \n",
            "75%      0.000000   31.000000  \n",
            "max      6.000000  512.329200  \n",
            "\n",
            "Количество пропусков в каждом столбце:\n",
            " PassengerId      0\n",
            "Survived         0\n",
            "Pclass           0\n",
            "Name             0\n",
            "Sex              0\n",
            "Age            177\n",
            "SibSp            0\n",
            "Parch            0\n",
            "Ticket           0\n",
            "Fare             0\n",
            "Cabin          687\n",
            "Embarked         2\n",
            "dtype: int64\n"
          ]
        }
      ]
    },
    {
      "cell_type": "code",
      "source": [
        "# Подзадание №3\n",
        "survival_by_class = df.groupby('Pclass')['Survived'].mean() * 100\n",
        "print(\"\\nПроцент выживаемости по классам пассажиров:\\n\", survival_by_class)"
      ],
      "metadata": {
        "colab": {
          "base_uri": "https://localhost:8080/"
        },
        "id": "tL74Bz-PJ5NR",
        "outputId": "90e66518-b92d-43d6-8c9a-a253af2fc7f2"
      },
      "execution_count": 38,
      "outputs": [
        {
          "output_type": "stream",
          "name": "stdout",
          "text": [
            "\n",
            "Процент выживаемости по классам пассажиров:\n",
            " Pclass\n",
            "1    62.962963\n",
            "2    47.282609\n",
            "3    24.236253\n",
            "Name: Survived, dtype: float64\n"
          ]
        }
      ]
    },
    {
      "cell_type": "code",
      "source": [
        "# Подзадание №4\n",
        "df['Name'] = df['Name'].str.extract(r'([A-Za-z]+),', expand=False)\n",
        "male_names = df[df['Sex'] == 'male']['Name'].value_counts()\n",
        "female_names = df[df['Sex'] == 'female']['Name'].value_counts()\n",
        "print(\"\\nСамое популярное мужское имя:\", male_names.index[0], \"(\", male_names.iloc[0], \")\")\n",
        "print(\"Самое популярное женское имя:\", female_names.index[0], \"(\", female_names.iloc[0], \")\")"
      ],
      "metadata": {
        "colab": {
          "base_uri": "https://localhost:8080/"
        },
        "id": "VXTtkA-iJ9-4",
        "outputId": "9b2634f3-0854-4922-e2d1-a80c464cf8b5"
      },
      "execution_count": 39,
      "outputs": [
        {
          "output_type": "stream",
          "name": "stdout",
          "text": [
            "\n",
            "Самое популярное мужское имя: Panula ( 5 )\n",
            "Самое популярное женское имя: Andersson ( 6 )\n"
          ]
        }
      ]
    },
    {
      "cell_type": "code",
      "source": [
        "# Подзадание №5\n",
        "print(\"\\nСамые популярные имена по классам:\")\n",
        "for pclass in df['Pclass'].unique():\n",
        "    df_class = df[df['Pclass'] == pclass]\n",
        "    male_names_class = df_class[df_class['Sex'] == 'male']['Name'].value_counts()\n",
        "    female_names_class = df_class[df_class['Sex'] == 'female']['Name'].value_counts()\n",
        "\n",
        "    print(f\"\\nКласс {pclass}:\")\n",
        "    if not male_names_class.empty:\n",
        "        print(\"  Самое популярное мужское имя:\", male_names_class.index[0], \"(\", male_names_class.iloc[0], \")\")\n",
        "    else:\n",
        "        print(\"  Мужчин в этом классе нет.\")\n",
        "    if not female_names_class.empty:\n",
        "        print(\"  Самое популярное женское имя:\", female_names_class.index[0], \"(\", female_names_class.iloc[0], \")\")\n",
        "    else:\n",
        "        print(\"  Женщин в этом классе нет.\")"
      ],
      "metadata": {
        "colab": {
          "base_uri": "https://localhost:8080/"
        },
        "id": "z9q6xkC8KC6r",
        "outputId": "57d61ee1-34d8-4634-816e-93e9ff456e83"
      },
      "execution_count": 40,
      "outputs": [
        {
          "output_type": "stream",
          "name": "stdout",
          "text": [
            "\n",
            "Самые популярные имена по классам:\n",
            "\n",
            "Класс 3:\n",
            "  Самое популярное мужское имя: Panula ( 5 )\n",
            "  Самое популярное женское имя: Andersson ( 6 )\n",
            "\n",
            "Класс 1:\n",
            "  Самое популярное мужское имя: Carter ( 2 )\n",
            "  Самое популярное женское имя: Allison ( 2 )\n",
            "\n",
            "Класс 2:\n",
            "  Самое популярное мужское имя: Hickman ( 3 )\n",
            "  Самое популярное женское имя: Hart ( 2 )\n"
          ]
        }
      ]
    },
    {
      "cell_type": "code",
      "source": [
        "# Подзадание №6\n",
        "print(\"\\nПассажиры старше 44 лет:\\n\", df[df['Age'] > 44].head())"
      ],
      "metadata": {
        "colab": {
          "base_uri": "https://localhost:8080/"
        },
        "id": "pFqJ0IDBKZj1",
        "outputId": "31adad6d-8c06-4233-c380-e0e2f666bd39"
      },
      "execution_count": 41,
      "outputs": [
        {
          "output_type": "stream",
          "name": "stdout",
          "text": [
            "\n",
            "Пассажиры старше 44 лет:\n",
            "     PassengerId  Survived  Pclass      Name     Sex   Age  SibSp  Parch  \\\n",
            "6             7         0       1  McCarthy    male  54.0      0      0   \n",
            "11           12         1       1   Bonnell  female  58.0      0      0   \n",
            "15           16         1       2   Hewlett  female  55.0      0      0   \n",
            "33           34         0       2   Wheadon    male  66.0      0      0   \n",
            "52           53         1       1    Harper  female  49.0      1      0   \n",
            "\n",
            "        Ticket     Fare Cabin Embarked  \n",
            "6        17463  51.8625   E46        S  \n",
            "11      113783  26.5500  C103        S  \n",
            "15      248706  16.0000   NaN        S  \n",
            "33  C.A. 24579  10.5000   NaN        S  \n",
            "52    PC 17572  76.7292   D33        C  \n"
          ]
        }
      ]
    },
    {
      "cell_type": "code",
      "source": [
        "# Подзадание №7\n",
        "print(\"\\nМужчины младше 44 лет:\\n\", df[(df['Age'] < 44) & (df['Sex'] == 'male')].head())"
      ],
      "metadata": {
        "colab": {
          "base_uri": "https://localhost:8080/"
        },
        "id": "oKHA3k0dKcMR",
        "outputId": "35916599-b8b6-4a6c-ab97-eb1aa2d34cb3"
      },
      "execution_count": 42,
      "outputs": [
        {
          "output_type": "stream",
          "name": "stdout",
          "text": [
            "\n",
            "Мужчины младше 44 лет:\n",
            "     PassengerId  Survived  Pclass         Name   Sex   Age  SibSp  Parch  \\\n",
            "0             1         0       3       Braund  male  22.0      1      0   \n",
            "4             5         0       3        Allen  male  35.0      0      0   \n",
            "7             8         0       3      Palsson  male   2.0      3      1   \n",
            "12           13         0       3  Saundercock  male  20.0      0      0   \n",
            "13           14         0       3    Andersson  male  39.0      1      5   \n",
            "\n",
            "       Ticket    Fare Cabin Embarked  \n",
            "0   A/5 21171   7.250   NaN        S  \n",
            "4      373450   8.050   NaN        S  \n",
            "7      349909  21.075   NaN        S  \n",
            "12  A/5. 2151   8.050   NaN        S  \n",
            "13     347082  31.275   NaN        S  \n"
          ]
        }
      ]
    },
    {
      "cell_type": "code",
      "source": [
        "# Подзадание №8\n",
        "cabin_counts = df.groupby('Cabin')['PassengerId'].count()\n",
        "print(\"\\nКоличество человек в кабинах:\", cabin_counts.value_counts())"
      ],
      "metadata": {
        "colab": {
          "base_uri": "https://localhost:8080/"
        },
        "id": "LTgcSkOBKfCT",
        "outputId": "47df59d8-3d07-4856-c873-fbedf701cf2e"
      },
      "execution_count": 43,
      "outputs": [
        {
          "output_type": "stream",
          "name": "stdout",
          "text": [
            "\n",
            "Количество человек в кабинах: PassengerId\n",
            "1    101\n",
            "2     38\n",
            "3      5\n",
            "4      3\n",
            "Name: count, dtype: int64\n"
          ]
        }
      ]
    }
  ]
}