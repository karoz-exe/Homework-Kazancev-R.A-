{
  "nbformat": 4,
  "nbformat_minor": 0,
  "metadata": {
    "colab": {
      "provenance": [],
      "authorship_tag": "ABX9TyNtIOM7164tTSdDGEgZMdPe",
      "include_colab_link": true
    },
    "kernelspec": {
      "name": "python3",
      "display_name": "Python 3"
    },
    "language_info": {
      "name": "python"
    }
  },
  "cells": [
    {
      "cell_type": "markdown",
      "metadata": {
        "id": "view-in-github",
        "colab_type": "text"
      },
      "source": [
        "<a href=\"https://colab.research.google.com/github/karoz-exe/Homework-Kazancev-R.A-/blob/hw_5/%D0%9F%D1%80%D0%B0%D0%BA%D1%82%D0%B8%D1%87%D0%B5%D1%81%D0%BA%D0%B0%D1%8F_%D1%80%D0%B0%D0%B1%D0%BE%D1%82%D0%B0_%E2%84%965.ipynb\" target=\"_parent\"><img src=\"https://colab.research.google.com/assets/colab-badge.svg\" alt=\"Open In Colab\"/></a>"
      ]
    },
    {
      "cell_type": "markdown",
      "source": [
        "**Практическое задание №5**"
      ],
      "metadata": {
        "id": "kbPfMcdd81qr"
      }
    },
    {
      "cell_type": "markdown",
      "source": [
        "**Polars:**\n",
        "1. Считайте датасет из файла train.csv (это данные о выживаемости на Титанике) с помощью polars - 1 балл\n",
        "2. Выведите основную информацию о датасете: информацию о типах данных, число пропусков, средние значения и т.д. - 1 балл\n",
        "hint: используйте методы и атрибуты датафрейма: describe(), dtypes, null_count(), mean()...\n",
        "3. Посчитайте количество пассажиров каждого класса (Pclass) - 1 балл\n",
        "hint: используйте методы: get_column(), value_counts()...\n",
        "4. Выведите количество выживших мужчин и женщин на корабле - 1 балл\n",
        "hint: используйте методы: groupby(), agg(), pl.col(), sum()...\n",
        "5. Выведите часть таблицы с пассажирами, возраст которых больше 44 лет - 1 балл\n",
        "hint: используйте методы: filter(), pl.col()...\n"
      ],
      "metadata": {
        "id": "oDZe7bTtny1V"
      }
    },
    {
      "cell_type": "code",
      "source": [
        "import polars as pl"
      ],
      "metadata": {
        "id": "Xx2ngfDDopxZ"
      },
      "execution_count": null,
      "outputs": []
    },
    {
      "cell_type": "code",
      "source": [
        "# Подзадание №1\n",
        "df = pl.read_csv(\"/content/sample_data/data titanic.csv\")"
      ],
      "metadata": {
        "id": "4rfdNNT3odDi"
      },
      "execution_count": null,
      "outputs": []
    },
    {
      "cell_type": "code",
      "source": [
        "# Подзадание №2\n",
        "print(\"Основная информация о датасете:\")\n",
        "print(df.describe())\n",
        "print(\"\\nТипы данных:\")\n",
        "print(df.dtypes)\n",
        "print(\"\\nКоличество пропусков:\")\n",
        "print(df.null_count())\n",
        "# Средние значения\n",
        "numeric_cols = df.select(pl.all().exclude([\"Name\", \"Sex\", \"Ticket\", \"Cabin\", \"Embarked\"])).columns\n",
        "print(\"\\nСредние значения:\")\n",
        "print(df.select(numeric_cols).mean())"
      ],
      "metadata": {
        "id": "-c3sp5JoqOMa",
        "colab": {
          "base_uri": "https://localhost:8080/"
        },
        "outputId": "3715d69d-5343-4c0d-def5-ef870bf6370d"
      },
      "execution_count": null,
      "outputs": [
        {
          "output_type": "stream",
          "name": "stdout",
          "text": [
            "Основная информация о датасете:\n",
            "shape: (9, 13)\n",
            "┌────────────┬─────────────┬──────────┬──────────┬───┬───────────┬───────────┬───────┬──────────┐\n",
            "│ statistic  ┆ PassengerId ┆ Survived ┆ Pclass   ┆ … ┆ Ticket    ┆ Fare      ┆ Cabin ┆ Embarked │\n",
            "│ ---        ┆ ---         ┆ ---      ┆ ---      ┆   ┆ ---       ┆ ---       ┆ ---   ┆ ---      │\n",
            "│ str        ┆ f64         ┆ f64      ┆ f64      ┆   ┆ str       ┆ f64       ┆ str   ┆ str      │\n",
            "╞════════════╪═════════════╪══════════╪══════════╪═══╪═══════════╪═══════════╪═══════╪══════════╡\n",
            "│ count      ┆ 891.0       ┆ 891.0    ┆ 891.0    ┆ … ┆ 891       ┆ 891.0     ┆ 204   ┆ 889      │\n",
            "│ null_count ┆ 0.0         ┆ 0.0      ┆ 0.0      ┆ … ┆ 0         ┆ 0.0       ┆ 687   ┆ 2        │\n",
            "│ mean       ┆ 446.0       ┆ 0.383838 ┆ 2.308642 ┆ … ┆ null      ┆ 32.204208 ┆ null  ┆ null     │\n",
            "│ std        ┆ 257.353842  ┆ 0.486592 ┆ 0.836071 ┆ … ┆ null      ┆ 49.693429 ┆ null  ┆ null     │\n",
            "│ min        ┆ 1.0         ┆ 0.0      ┆ 1.0      ┆ … ┆ 110152    ┆ 0.0       ┆ A10   ┆ C        │\n",
            "│ 25%        ┆ 224.0       ┆ 0.0      ┆ 2.0      ┆ … ┆ null      ┆ 7.925     ┆ null  ┆ null     │\n",
            "│ 50%        ┆ 446.0       ┆ 0.0      ┆ 3.0      ┆ … ┆ null      ┆ 14.4542   ┆ null  ┆ null     │\n",
            "│ 75%        ┆ 669.0       ┆ 1.0      ┆ 3.0      ┆ … ┆ null      ┆ 31.0      ┆ null  ┆ null     │\n",
            "│ max        ┆ 891.0       ┆ 1.0      ┆ 3.0      ┆ … ┆ WE/P 5735 ┆ 512.3292  ┆ T     ┆ S        │\n",
            "└────────────┴─────────────┴──────────┴──────────┴───┴───────────┴───────────┴───────┴──────────┘\n",
            "\n",
            "Типы данных:\n",
            "[Int64, Int64, Int64, String, String, Float64, Int64, Int64, String, Float64, String, String]\n",
            "\n",
            "Количество пропусков:\n",
            "shape: (1, 12)\n",
            "┌─────────────┬──────────┬────────┬──────┬───┬────────┬──────┬───────┬──────────┐\n",
            "│ PassengerId ┆ Survived ┆ Pclass ┆ Name ┆ … ┆ Ticket ┆ Fare ┆ Cabin ┆ Embarked │\n",
            "│ ---         ┆ ---      ┆ ---    ┆ ---  ┆   ┆ ---    ┆ ---  ┆ ---   ┆ ---      │\n",
            "│ u32         ┆ u32      ┆ u32    ┆ u32  ┆   ┆ u32    ┆ u32  ┆ u32   ┆ u32      │\n",
            "╞═════════════╪══════════╪════════╪══════╪═══╪════════╪══════╪═══════╪══════════╡\n",
            "│ 0           ┆ 0        ┆ 0      ┆ 0    ┆ … ┆ 0      ┆ 0    ┆ 687   ┆ 2        │\n",
            "└─────────────┴──────────┴────────┴──────┴───┴────────┴──────┴───────┴──────────┘\n",
            "\n",
            "Средние значения:\n",
            "shape: (1, 7)\n",
            "┌─────────────┬──────────┬──────────┬───────────┬──────────┬──────────┬───────────┐\n",
            "│ PassengerId ┆ Survived ┆ Pclass   ┆ Age       ┆ SibSp    ┆ Parch    ┆ Fare      │\n",
            "│ ---         ┆ ---      ┆ ---      ┆ ---       ┆ ---      ┆ ---      ┆ ---       │\n",
            "│ f64         ┆ f64      ┆ f64      ┆ f64       ┆ f64      ┆ f64      ┆ f64       │\n",
            "╞═════════════╪══════════╪══════════╪═══════════╪══════════╪══════════╪═══════════╡\n",
            "│ 446.0       ┆ 0.383838 ┆ 2.308642 ┆ 29.699118 ┆ 0.523008 ┆ 0.381594 ┆ 32.204208 │\n",
            "└─────────────┴──────────┴──────────┴───────────┴──────────┴──────────┴───────────┘\n"
          ]
        }
      ]
    },
    {
      "cell_type": "code",
      "source": [
        "# Подзадание №3\n",
        "print(\"\\nКоличество пассажиров каждого класса:\")\n",
        "print(df.get_column(\"Pclass\").value_counts())"
      ],
      "metadata": {
        "id": "BAd5mqECqPly",
        "colab": {
          "base_uri": "https://localhost:8080/"
        },
        "outputId": "2f3bcda1-8648-434e-9b0b-d3dce6dfd8c1"
      },
      "execution_count": null,
      "outputs": [
        {
          "output_type": "stream",
          "name": "stdout",
          "text": [
            "\n",
            "Количество пассажиров каждого класса:\n",
            "shape: (3, 2)\n",
            "┌────────┬───────┐\n",
            "│ Pclass ┆ count │\n",
            "│ ---    ┆ ---   │\n",
            "│ i64    ┆ u32   │\n",
            "╞════════╪═══════╡\n",
            "│ 3      ┆ 491   │\n",
            "│ 2      ┆ 184   │\n",
            "│ 1      ┆ 216   │\n",
            "└────────┴───────┘\n"
          ]
        }
      ]
    },
    {
      "cell_type": "code",
      "source": [
        " !pip install polars"
      ],
      "metadata": {
        "colab": {
          "base_uri": "https://localhost:8080/"
        },
        "id": "3IUxHI66GieI",
        "outputId": "b0b147e1-0863-414b-f889-befe2152a716"
      },
      "execution_count": null,
      "outputs": [
        {
          "output_type": "stream",
          "name": "stdout",
          "text": [
            "Requirement already satisfied: polars in /usr/local/lib/python3.10/dist-packages (1.9.0)\n"
          ]
        }
      ]
    },
    {
      "cell_type": "code",
      "source": [
        "# Подзадание №4\n",
        "survived_by_sex = df.groupby([\"Sex\", \"Survived\"]).agg(pl.count())\n",
        "print(\"\\nКоличество выживших мужчин и женщин:\")\n",
        "print(survived_by_sex)"
      ],
      "metadata": {
        "colab": {
          "base_uri": "https://localhost:8080/",
          "height": 200
        },
        "id": "AwaJV0QGuEwd",
        "outputId": "de7c13ae-90eb-4f08-8e53-feff10ddb62d"
      },
      "execution_count": null,
      "outputs": [
        {
          "output_type": "error",
          "ename": "AttributeError",
          "evalue": "'DataFrame' object has no attribute 'groupby'",
          "traceback": [
            "\u001b[0;31m---------------------------------------------------------------------------\u001b[0m",
            "\u001b[0;31mAttributeError\u001b[0m                            Traceback (most recent call last)",
            "\u001b[0;32m<ipython-input-5-2254c0c05be7>\u001b[0m in \u001b[0;36m<cell line: 2>\u001b[0;34m()\u001b[0m\n\u001b[1;32m      1\u001b[0m \u001b[0;31m# Подзадание №4\u001b[0m\u001b[0;34m\u001b[0m\u001b[0;34m\u001b[0m\u001b[0m\n\u001b[0;32m----> 2\u001b[0;31m \u001b[0msurvived_by_sex\u001b[0m \u001b[0;34m=\u001b[0m \u001b[0mdf\u001b[0m\u001b[0;34m.\u001b[0m\u001b[0mgroupby\u001b[0m\u001b[0;34m(\u001b[0m\u001b[0;34m[\u001b[0m\u001b[0;34m\"Sex\"\u001b[0m\u001b[0;34m,\u001b[0m \u001b[0;34m\"Survived\"\u001b[0m\u001b[0;34m]\u001b[0m\u001b[0;34m)\u001b[0m\u001b[0;34m.\u001b[0m\u001b[0magg\u001b[0m\u001b[0;34m(\u001b[0m\u001b[0mpl\u001b[0m\u001b[0;34m.\u001b[0m\u001b[0mcount\u001b[0m\u001b[0;34m(\u001b[0m\u001b[0;34m)\u001b[0m\u001b[0;34m)\u001b[0m\u001b[0;34m\u001b[0m\u001b[0;34m\u001b[0m\u001b[0m\n\u001b[0m\u001b[1;32m      3\u001b[0m \u001b[0mprint\u001b[0m\u001b[0;34m(\u001b[0m\u001b[0;34m\"\\nКоличество выживших мужчин и женщин:\"\u001b[0m\u001b[0;34m)\u001b[0m\u001b[0;34m\u001b[0m\u001b[0;34m\u001b[0m\u001b[0m\n\u001b[1;32m      4\u001b[0m \u001b[0mprint\u001b[0m\u001b[0;34m(\u001b[0m\u001b[0msurvived_by_sex\u001b[0m\u001b[0;34m)\u001b[0m\u001b[0;34m\u001b[0m\u001b[0;34m\u001b[0m\u001b[0m\n",
            "\u001b[0;31mAttributeError\u001b[0m: 'DataFrame' object has no attribute 'groupby'"
          ]
        }
      ]
    },
    {
      "cell_type": "code",
      "source": [
        "# Подзадание №5\n",
        "print(\"\\nПассажиры старше 44 лет:\")\n",
        "print(df.filter(pl.col(\"Age\") > 44))"
      ],
      "metadata": {
        "id": "WrpL2P6LqQxm",
        "colab": {
          "base_uri": "https://localhost:8080/"
        },
        "outputId": "1f9746fa-2d07-47ef-c3d2-058d5bc9bbad"
      },
      "execution_count": null,
      "outputs": [
        {
          "output_type": "stream",
          "name": "stdout",
          "text": [
            "\n",
            "Пассажиры старше 44 лет:\n",
            "shape: (115, 12)\n",
            "┌─────────────┬──────────┬────────┬──────────────────┬───┬────────────┬─────────┬───────┬──────────┐\n",
            "│ PassengerId ┆ Survived ┆ Pclass ┆ Name             ┆ … ┆ Ticket     ┆ Fare    ┆ Cabin ┆ Embarked │\n",
            "│ ---         ┆ ---      ┆ ---    ┆ ---              ┆   ┆ ---        ┆ ---     ┆ ---   ┆ ---      │\n",
            "│ i64         ┆ i64      ┆ i64    ┆ str              ┆   ┆ str        ┆ f64     ┆ str   ┆ str      │\n",
            "╞═════════════╪══════════╪════════╪══════════════════╪═══╪════════════╪═════════╪═══════╪══════════╡\n",
            "│ 7           ┆ 0        ┆ 1      ┆ McCarthy, Mr.    ┆ … ┆ 17463      ┆ 51.8625 ┆ E46   ┆ S        │\n",
            "│             ┆          ┆        ┆ Timothy J        ┆   ┆            ┆         ┆       ┆          │\n",
            "│ 12          ┆ 1        ┆ 1      ┆ Bonnell, Miss.   ┆ … ┆ 113783     ┆ 26.55   ┆ C103  ┆ S        │\n",
            "│             ┆          ┆        ┆ Elizabeth        ┆   ┆            ┆         ┆       ┆          │\n",
            "│ 16          ┆ 1        ┆ 2      ┆ Hewlett, Mrs.    ┆ … ┆ 248706     ┆ 16.0    ┆ null  ┆ S        │\n",
            "│             ┆          ┆        ┆ (Mary D          ┆   ┆            ┆         ┆       ┆          │\n",
            "│             ┆          ┆        ┆ Kingcome…        ┆   ┆            ┆         ┆       ┆          │\n",
            "│ 34          ┆ 0        ┆ 2      ┆ Wheadon, Mr.     ┆ … ┆ C.A. 24579 ┆ 10.5    ┆ null  ┆ S        │\n",
            "│             ┆          ┆        ┆ Edward H         ┆   ┆            ┆         ┆       ┆          │\n",
            "│ 53          ┆ 1        ┆ 1      ┆ Harper, Mrs.     ┆ … ┆ PC 17572   ┆ 76.7292 ┆ D33   ┆ C        │\n",
            "│             ┆          ┆        ┆ Henry Sleeper    ┆   ┆            ┆         ┆       ┆          │\n",
            "│             ┆          ┆        ┆ (My…             ┆   ┆            ┆         ┆       ┆          │\n",
            "│ …           ┆ …        ┆ …      ┆ …                ┆ … ┆ …          ┆ …       ┆ …     ┆ …        │\n",
            "│ 858         ┆ 1        ┆ 1      ┆ Daly, Mr. Peter  ┆ … ┆ 113055     ┆ 26.55   ┆ E17   ┆ S        │\n",
            "│             ┆          ┆        ┆ Denis            ┆   ┆            ┆         ┆       ┆          │\n",
            "│ 863         ┆ 1        ┆ 1      ┆ Swift, Mrs.      ┆ … ┆ 17466      ┆ 25.9292 ┆ D17   ┆ S        │\n",
            "│             ┆          ┆        ┆ Frederick Joel   ┆   ┆            ┆         ┆       ┆          │\n",
            "│             ┆          ┆        ┆ (Ma…             ┆   ┆            ┆         ┆       ┆          │\n",
            "│ 872         ┆ 1        ┆ 1      ┆ Beckwith, Mrs.   ┆ … ┆ 11751      ┆ 52.5542 ┆ D35   ┆ S        │\n",
            "│             ┆          ┆        ┆ Richard Leonard… ┆   ┆            ┆         ┆       ┆          │\n",
            "│ 874         ┆ 0        ┆ 3      ┆ Vander Cruyssen, ┆ … ┆ 345765     ┆ 9.0     ┆ null  ┆ S        │\n",
            "│             ┆          ┆        ┆ Mr. Victor       ┆   ┆            ┆         ┆       ┆          │\n",
            "│ 880         ┆ 1        ┆ 1      ┆ Potter, Mrs.     ┆ … ┆ 11767      ┆ 83.1583 ┆ C50   ┆ C        │\n",
            "│             ┆          ┆        ┆ Thomas Jr (Lily  ┆   ┆            ┆         ┆       ┆          │\n",
            "│             ┆          ┆        ┆ A…               ┆   ┆            ┆         ┆       ┆          │\n",
            "└─────────────┴──────────┴────────┴──────────────────┴───┴────────────┴─────────┴───────┴──────────┘\n"
          ]
        }
      ]
    },
    {
      "cell_type": "markdown",
      "source": [
        "**Ускорение работы с pandas**\n",
        "1. Считайте датасет из файла train.csv (это данные о выживаемости на Титанике) с помощью pandas\n",
        "2. Посчитайте средний возраст пассажиров и его стандартное отклонение с помощью bottleneck - 1 бал\n",
        "hint: используйте методы: bn.nanmean(), bn.nanstd()\n",
        "3. Для каждого пассажира умножьте значение столбца Fare на 1.3 и сохраните результаты как новый столбец Fare_new - 1 балл\n",
        "hint: используйте методы: .itertuples() или apply()"
      ],
      "metadata": {
        "id": "S_4XaOeRsEyf"
      }
    },
    {
      "cell_type": "code",
      "source": [
        "# Подзадание №1\n",
        "import pandas as pd\n",
        "import bottleneck as bn\n",
        "df = pd.read_csv(\"/content/sample_data/data titanic.csv\")\n",
        "# Подзадание №2\n",
        "try:\n",
        "  mean_age = bn.nanmean(df[\"Age\"])\n",
        "  std_age = bn.nanstd(df[\"Age\"])\n",
        "  print(f\"Средний возраст пассажиров: {mean_age:.2f}\")\n",
        "  print(f\"Стандартное отклонение возраста: {std_age:.2f}\")\n",
        "except KeyError:\n",
        "  print(\"Error: 'Age' column not found in the DataFrame.\")\n",
        "except Exception as e:\n",
        "  print(f\"An unexpected error occurred during calculation: {e}\")\n",
        "\n",
        "\n",
        "# Подзадание №3\n",
        "try:\n",
        "  df['Fare_new'] = [row.Fare * 1.3 for row in df.itertuples()]\n",
        "  print(\"\\nDataFrame with new column 'Fare_new':\")\n",
        "  print(df.head())\n",
        "except KeyError:\n",
        "  print(\"Error: 'Fare' column not found in the DataFrame.\")\n",
        "except Exception as e:\n",
        "  print(f\"An unexpected error occurred during column creation: {e}\")"
      ],
      "metadata": {
        "colab": {
          "base_uri": "https://localhost:8080/"
        },
        "id": "CgBWzy-R7sIH",
        "outputId": "69e44a1c-f099-4181-afd0-7d578ec2fd06"
      },
      "execution_count": null,
      "outputs": [
        {
          "output_type": "stream",
          "name": "stdout",
          "text": [
            "Средний возраст пассажиров: 29.70\n",
            "Стандартное отклонение возраста: 14.52\n",
            "\n",
            "DataFrame with new column 'Fare_new':\n",
            "   PassengerId  Survived  Pclass  \\\n",
            "0            1         0       3   \n",
            "1            2         1       1   \n",
            "2            3         1       3   \n",
            "3            4         1       1   \n",
            "4            5         0       3   \n",
            "\n",
            "                                                Name     Sex   Age  SibSp  \\\n",
            "0                            Braund, Mr. Owen Harris    male  22.0      1   \n",
            "1  Cumings, Mrs. John Bradley (Florence Briggs Th...  female  38.0      1   \n",
            "2                             Heikkinen, Miss. Laina  female  26.0      0   \n",
            "3       Futrelle, Mrs. Jacques Heath (Lily May Peel)  female  35.0      1   \n",
            "4                           Allen, Mr. William Henry    male  35.0      0   \n",
            "\n",
            "   Parch            Ticket     Fare Cabin Embarked  Fare_new  \n",
            "0      0         A/5 21171   7.2500   NaN        S   9.42500  \n",
            "1      0          PC 17599  71.2833   C85        C  92.66829  \n",
            "2      0  STON/O2. 3101282   7.9250   NaN        S  10.30250  \n",
            "3      0            113803  53.1000  C123        S  69.03000  \n",
            "4      0            373450   8.0500   NaN        S  10.46500  \n"
          ]
        }
      ]
    },
    {
      "cell_type": "markdown",
      "source": [
        "**Оптимизация типов pandas**\n",
        "1. Считайте датасет из файла Housing.csv (это данные о ценах домов) с помощью pandas\n",
        "2. Для каждого столбца определите оптимальный с точки зрения потребления памяти тип данных - напишите свои выводы в комментариях - 2 балла\n",
        "3. Поменяйте типы данных столбцов датафрейма на выбранные вами в прошлом пункте и сравните потребление памяти до и после оптимизации - 1 балл"
      ],
      "metadata": {
        "id": "zNYAqVVfsSyv"
      }
    },
    {
      "cell_type": "code",
      "source": [
        "# Подзадание №1\n",
        "import pandas as pd\n",
        "import numpy as np\n",
        "df = pd.read_csv(\"/content/sample_data/Housing.csv\")\n",
        "original_memory = df.memory_usage(deep=True).sum()\n",
        "print(f\"Потребление памяти до оптимизации: {original_memory / 1024**2:.2f} MB\")"
      ],
      "metadata": {
        "colab": {
          "base_uri": "https://localhost:8080/"
        },
        "id": "fIlx5CvE6GFD",
        "outputId": "c7320775-d83b-4f14-f4a8-c0e495939d48"
      },
      "execution_count": null,
      "outputs": [
        {
          "output_type": "stream",
          "name": "stdout",
          "text": [
            "Потребление памяти до оптимизации: 0.25 MB\n"
          ]
        }
      ]
    },
    {
      "cell_type": "markdown",
      "source": [
        "**Подзадание №2**\n",
        "\n",
        "'price' - float64, можно попробовать int64 если нет дробных частей;\n",
        "\n",
        "'area' - int64;\n",
        "\n",
        "'bedrooms' - int64;\n",
        "\n",
        "'bathrooms' - float64, можно попробовать int64;\n",
        "\n",
        "'stories' - int64;\n",
        "\n",
        "'parking' - int64;\n",
        "\n",
        "'mainroad' - category (булевый);\n",
        "\n",
        "'guestroom' - category (булевый);\n",
        "\n",
        "'basement' - category (булевый);\n",
        "\n",
        "'hotwaterheating' - category (булевый);\n",
        "\n",
        "'airconditioning' - category (булевый);\n",
        "\n",
        "'prefarea' - category (булевый);\n",
        "\n",
        "'furnishingstatus' - category."
      ],
      "metadata": {
        "id": "w4R2JRauzk4J"
      }
    },
    {
      "cell_type": "markdown",
      "source": [
        "**Подзадание №3**"
      ],
      "metadata": {
        "id": "eYA2qPBS7mBo"
      }
    },
    {
      "cell_type": "code",
      "source": [
        "optimized_df = df.copy() # Создаём копию, чтобы не менять исходный DataFrame\n",
        "\n",
        "optimized_df[\"price\"] = optimized_df[\"price\"].astype(np.int64) # если нет дробных частей\n",
        "optimized_df[\"area\"] = optimized_df[\"area\"].astype(np.int32)\n",
        "optimized_df[\"bedrooms\"] = optimized_df[\"bedrooms\"].astype(np.int8)\n",
        "optimized_df[\"bathrooms\"] = optimized_df[\"bathrooms\"].astype(np.int8)\n",
        "optimized_df[\"stories\"] = optimized_df[\"stories\"].astype(np.int8)\n",
        "optimized_df[\"parking\"] = optimized_df[\"parking\"].astype(np.int8)\n",
        "optimized_df[\"mainroad\"] = optimized_df[\"mainroad\"].astype(\"category\")\n",
        "optimized_df[\"guestroom\"] = optimized_df[\"guestroom\"].astype(\"category\")\n",
        "optimized_df[\"basement\"] = optimized_df[\"basement\"].astype(\"category\")\n",
        "optimized_df[\"hotwaterheating\"] = optimized_df[\"hotwaterheating\"].astype(\"category\")\n",
        "optimized_df[\"airconditioning\"] = optimized_df[\"airconditioning\"].astype(\"category\")\n",
        "optimized_df[\"prefarea\"] = optimized_df[\"prefarea\"].astype(\"category\")\n",
        "optimized_df[\"furnishingstatus\"] = optimized_df[\"furnishingstatus\"].astype(\"category\")\n",
        "\n",
        "\n",
        "\n",
        "optimized_memory = optimized_df.memory_usage(deep=True).sum()\n",
        "print(f\"Потребление памяти после оптимизации: {optimized_memory / 1024**2:.2f} MB\")\n",
        "print(f\"Сокращение потребления памяти: {(original_memory - optimized_memory) / 1024**2:.2f} MB\")\n",
        "\n",
        "print(\"\\nТипы данных после оптимизации:\")\n",
        "print(optimized_df.dtypes)\n"
      ],
      "metadata": {
        "colab": {
          "base_uri": "https://localhost:8080/"
        },
        "id": "W1UYyKLh6WjJ",
        "outputId": "64bc8e7d-ff16-44c8-f491-3be9eaf7757d"
      },
      "execution_count": null,
      "outputs": [
        {
          "output_type": "stream",
          "name": "stdout",
          "text": [
            "Потребление памяти после оптимизации: 0.01 MB\n",
            "Сокращение потребления памяти: 0.23 MB\n",
            "\n",
            "Типы данных после оптимизации:\n",
            "price                  int64\n",
            "area                   int32\n",
            "bedrooms                int8\n",
            "bathrooms               int8\n",
            "stories                 int8\n",
            "mainroad            category\n",
            "guestroom           category\n",
            "basement            category\n",
            "hotwaterheating     category\n",
            "airconditioning     category\n",
            "parking                 int8\n",
            "prefarea            category\n",
            "furnishingstatus    category\n",
            "dtype: object\n"
          ]
        }
      ]
    }
  ]
}